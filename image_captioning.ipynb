{
 "cells": [
  {
   "cell_type": "markdown",
   "metadata": {
    "colab_type": "text",
    "id": "An4wjRVmOC5f"
   },
   "source": [
    "# Image Captioning"
   ]
  },
  {
   "cell_type": "markdown",
   "metadata": {
    "colab_type": "text",
    "id": "T6xTHWFnOJT3"
   },
   "source": [
    "This is the project for Deep Learning using Tensorflow: [Project Proposal](https://sharedcare.io/ImageCaptioning/proposal/)"
   ]
  },
  {
   "cell_type": "code",
   "execution_count": 1,
   "metadata": {
    "colab": {
     "autoexec": {
      "startup": false,
      "wait_interval": 0
     },
     "base_uri": "https://localhost:8080/",
     "height": 51,
     "output_extras": [
      {
       "item_id": 2
      }
     ]
    },
    "colab_type": "code",
    "executionInfo": {
     "elapsed": 1542,
     "status": "ok",
     "timestamp": 1522620363521,
     "user": {
      "displayName": "Alan Luo",
      "photoUrl": "https://lh3.googleusercontent.com/a/default-user=s128",
      "userId": "112543995370433074750"
     },
     "user_tz": 300
    },
    "id": "EJayxAGvNBm-",
    "outputId": "0bb8901e-7504-4e19-e17b-b15a398f5242"
   },
   "outputs": [
    {
     "name": "stdout",
     "output_type": "stream",
     "text": [
      "Uploaded file with ID 1izxKH2fQLVrHCRXWVWwbUjOhVuRes6VT\n",
      "Downloaded content \"Sample upload file content\"\n"
     ]
    }
   ],
   "source": [
    "!pip install -U -q PyDrive\n",
    "\n",
    "from pydrive.auth import GoogleAuth\n",
    "from pydrive.drive import GoogleDrive\n",
    "from google.colab import auth\n",
    "from oauth2client.client import GoogleCredentials\n",
    "\n",
    "# 1. Authenticate and create the PyDrive client.\n",
    "auth.authenticate_user()\n",
    "gauth = GoogleAuth()\n",
    "gauth.credentials = GoogleCredentials.get_application_default()\n",
    "drive = GoogleDrive(gauth)\n",
    "\n",
    "# PyDrive reference:\n",
    "# https://googledrive.github.io/PyDrive/docs/build/html/index.html\n",
    "\n",
    "# 2. Create & upload a file text file.\n",
    "uploaded = drive.CreateFile({'title': 'Sample upload.txt'})\n",
    "uploaded.SetContentString('Sample upload file content')\n",
    "uploaded.Upload()\n",
    "print('Uploaded file with ID {}'.format(uploaded.get('id')))\n",
    "\n",
    "# 3. Load a file by ID and print its contents.\n",
    "downloaded = drive.CreateFile({'id': uploaded.get('id')})\n",
    "print('Downloaded content \"{}\"'.format(downloaded.GetContentString()))"
   ]
  },
  {
   "cell_type": "markdown",
   "metadata": {},
   "source": [
    "# Prepare the Training Data\n",
    "##### Location to save the MSCOCO data.\n",
    "MSCOCO_DIR=\"data/mscoco\"\n",
    "\n",
    "##### Run the preprocessing script.\n",
    "sh ./download_and_preprocess_mscoco.sh \\${MSCOCO_DIR}\n",
    "\n",
    "##### Build the vocabulary.\n",
    "DATA_DIR=\"mscoco/raw-data\"\n",
    "\n",
    "OUTPUT_DIR=\"mscoco/output\"\n",
    "\n",
    "python build_mscoco_data.py --train_image_dir=\\${DATA_DIR}/train2014/ --val_image_dir=\\${DATA_DIR}/val2014/ --train_captions_file=\\${DATA_DIR}/annotations/captions_train2014.json --val_captions_file=\\${DATA_DIR}/annotations/captions_val2014.json --output_dir=\\${OUTPUT_DIR}/ --word_counts_output_file=\\${OUTPUT_DIR}/word_counts.txt\n"
   ]
  },
  {
   "cell_type": "markdown",
   "metadata": {},
   "source": [
    "# Download the Inception v3 Checkpoint\n",
    "##### Location to save the Inception v3 checkpoint.\n",
    "INCEPTION_DIR=\"data\"\n",
    "\n",
    "mkdir -p ${INCEPTION_DIR}\n",
    "\n",
    "wget \"http://download.tensorflow.org/models/inception_v3_2016_08_28.tar.gz\"\n",
    "\n",
    "tar -xvf \"inception_v3_2016_08_28.tar.gz\" -C ${INCEPTION_DIR}\n",
    "\n",
    "rm \"inception_v3_2016_08_28.tar.gz\""
   ]
  },
  {
   "cell_type": "markdown",
   "metadata": {},
   "source": [
    "# Train a Model\n",
    "##### Directory containing preprocessed MSCOCO data.\n",
    "MSCOCO_DIR=\"data/data/mscoco\"\n",
    "\n",
    "##### Inception v3 checkpoint file.\n",
    "INCEPTION_CHECKPOINT=\"data/inception_v3.ckpt\"\n",
    "\n",
    "##### Directory to save the model.\n",
    "MODEL_DIR=\"model\"\n",
    "\n",
    "##### Train the model.\n",
    "(tensorflow) device:im2txt user\\$ python train.py --input_file_pattern=\"\\${MSCOCO_DIR}/train-?????-of-00256\" --inception_checkpoint_file=\"\\${INCEPTION_CHECKPOINT}\" --train_dir=\"\\${MODEL_DIR}/train\" --train_inception=false --number_of_steps=1000000"
   ]
  },
  {
   "cell_type": "code",
   "execution_count": null,
   "metadata": {},
   "outputs": [],
   "source": []
  }
 ],
 "metadata": {
  "accelerator": "GPU",
  "colab": {
   "default_view": {},
   "name": "image_captioning.ipynb",
   "provenance": [],
   "toc_visible": true,
   "version": "0.3.2",
   "views": {}
  },
  "kernelspec": {
   "display_name": "Python tensorflow",
   "language": "python",
   "name": "tensorflow"
  },
  "language_info": {
   "codemirror_mode": {
    "name": "ipython",
    "version": 3
   },
   "file_extension": ".py",
   "mimetype": "text/x-python",
   "name": "python",
   "nbconvert_exporter": "python",
   "pygments_lexer": "ipython3",
   "version": "3.6.3"
  }
 },
 "nbformat": 4,
 "nbformat_minor": 1
}
